{
  "nbformat": 4,
  "nbformat_minor": 0,
  "metadata": {
    "colab": {
      "name": "Untitled1.ipynb",
      "private_outputs": true,
      "provenance": [],
      "authorship_tag": "ABX9TyMY1NYx5lUD+RfYHMR4YUUj",
      "include_colab_link": true
    },
    "kernelspec": {
      "name": "python3",
      "display_name": "Python 3"
    },
    "language_info": {
      "name": "python"
    }
  },
  "cells": [
    {
      "cell_type": "markdown",
      "metadata": {
        "id": "view-in-github",
        "colab_type": "text"
      },
      "source": [
        "<a href=\"https://colab.research.google.com/github/ProfitTree/research/blob/main/es_range.ipynb\" target=\"_parent\"><img src=\"https://colab.research.google.com/assets/colab-badge.svg\" alt=\"Open In Colab\"/></a>"
      ]
    },
    {
      "cell_type": "code",
      "metadata": {
        "id": "n5yrvQEM4k9i"
      },
      "source": [
        "import numpy as np \n",
        "import pandas as pd\n",
        "import pandas_datareader.data as web\n",
        "\n",
        "import matplotlib.pyplot as plt\n",
        "import seaborn as sns\n",
        "import datetime as dt\n",
        "\n",
        "!pip install prophet\n",
        "\n",
        "from prophet import Prophet\n",
        "from prophet.plot import add_changepoints_to_plot\n",
        "from prophet.plot import plot_plotly, plot_components_plotly"
      ],
      "execution_count": null,
      "outputs": []
    },
    {
      "cell_type": "code",
      "metadata": {
        "id": "kk6J_iz-4miH"
      },
      "source": [
        "end = dt.datetime.today()\n",
        "df = web.DataReader('ES=F', 'yahoo') #, start='2019-09-10', end)\n",
        "df.reset_index(inplace=True)\n",
        "df['Range'] = df['High'] - df['Close']\n",
        "df.head()"
      ],
      "execution_count": null,
      "outputs": []
    },
    {
      "cell_type": "code",
      "metadata": {
        "id": "pipN1rex4tkm"
      },
      "source": [
        "#d = df.drop(['High', 'Low', 'Open','Volume'])\n",
        "\n",
        "df.drop(columns = ['High', 'Low', 'Open', 'Close', 'Volume', 'Adj Close'], inplace = True)\n",
        "df.head()"
      ],
      "execution_count": null,
      "outputs": []
    },
    {
      "cell_type": "code",
      "metadata": {
        "id": "cofTa30K4vEc"
      },
      "source": [
        "df.rename(columns={'Range': 'y', 'Date': 'ds'}, inplace=True)\n",
        "#df.columns = ['ds','y']\n",
        "df.head()"
      ],
      "execution_count": null,
      "outputs": []
    },
    {
      "cell_type": "code",
      "metadata": {
        "id": "jwWNgOKx41eF"
      },
      "source": [
        "df.describe()"
      ],
      "execution_count": null,
      "outputs": []
    },
    {
      "cell_type": "code",
      "metadata": {
        "id": "NkTH5AxB42gg"
      },
      "source": [
        "df_train = df[0:100]\n",
        "df_test = df[1001:1248]"
      ],
      "execution_count": null,
      "outputs": []
    },
    {
      "cell_type": "code",
      "metadata": {
        "id": "JHWri90L46Gd"
      },
      "source": [
        "m = Prophet(daily_seasonality=True, weekly_seasonality=True, yearly_seasonality=True)\n",
        "m.fit(df_train)"
      ],
      "execution_count": null,
      "outputs": []
    },
    {
      "cell_type": "code",
      "metadata": {
        "id": "AnQGa6el49Ns"
      },
      "source": [
        "future = m.make_future_dataframe(periods=450)\n",
        "forecast = m.predict(future)\n",
        "forecast[['ds', 'yhat', 'yhat_lower', 'yhat_upper']].tail(25)"
      ],
      "execution_count": null,
      "outputs": []
    },
    {
      "cell_type": "code",
      "metadata": {
        "id": "eh3rsY0r5A1d"
      },
      "source": [
        "fig1 = m.plot(forecast)\n",
        "\n",
        "c = add_changepoints_to_plot(fig1.gca(), m, forecast)"
      ],
      "execution_count": null,
      "outputs": []
    },
    {
      "cell_type": "code",
      "metadata": {
        "id": "jz8q_Q785Ei_"
      },
      "source": [
        "fig2 = m.plot_components(forecast)"
      ],
      "execution_count": null,
      "outputs": []
    },
    {
      "cell_type": "code",
      "metadata": {
        "id": "iMBnlsRl5J8l"
      },
      "source": [
        "plot_plotly(m, forecast)"
      ],
      "execution_count": null,
      "outputs": []
    },
    {
      "cell_type": "code",
      "metadata": {
        "id": "2haiAoks5K6S"
      },
      "source": [
        "plot_components_plotly(m, forecast)"
      ],
      "execution_count": null,
      "outputs": []
    }
  ]
}